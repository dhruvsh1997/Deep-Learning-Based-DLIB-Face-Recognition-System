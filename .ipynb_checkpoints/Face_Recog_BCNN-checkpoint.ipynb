{
 "cells": [
  {
   "cell_type": "code",
   "execution_count": 53,
   "id": "06c45870",
   "metadata": {},
   "outputs": [],
   "source": [
    "from keras.models import Sequential\n",
    "from keras.layers import Convolution2D\n",
    "from keras.layers import MaxPool2D\n",
    "from keras.layers import Flatten\n",
    "from keras.layers import Dense\n",
    "import pandas as pd"
   ]
  },
  {
   "cell_type": "code",
   "execution_count": 54,
   "id": "2c1f6d1c",
   "metadata": {},
   "outputs": [
    {
     "name": "stdout",
     "output_type": "stream",
     "text": [
      "Collecting dlib\n",
      "  Using cached dlib-19.24.0.tar.gz (3.2 MB)\n",
      "  Preparing metadata (setup.py): started\n",
      "  Preparing metadata (setup.py): finished with status 'done'\n",
      "Building wheels for collected packages: dlib\n",
      "  Building wheel for dlib (setup.py): started\n",
      "  Building wheel for dlib (setup.py): finished with status 'error'\n",
      "  Running setup.py clean for dlib\n",
      "Failed to build dlib\n",
      "Installing collected packages: dlib\n",
      "  Running setup.py install for dlib: started\n",
      "  Running setup.py install for dlib: finished with status 'error'\n"
     ]
    },
    {
     "name": "stderr",
     "output_type": "stream",
     "text": [
      "WARNING: Ignoring invalid distribution -pencv-python (c:\\users\\dhruv sharma\\appdata\\roaming\\python\\python38\\site-packages)\n",
      "WARNING: Ignoring invalid distribution -5py (c:\\programdata\\anaconda3\\lib\\site-packages)\n",
      "WARNING: Ignoring invalid distribution -ornado (c:\\programdata\\anaconda3\\lib\\site-packages)\n",
      "WARNING: Ignoring invalid distribution - (c:\\programdata\\anaconda3\\lib\\site-packages)\n",
      "WARNING: Ignoring invalid distribution -etpy (c:\\programdata\\anaconda3\\lib\\site-packages)\n",
      "WARNING: Ignoring invalid distribution -bformat (c:\\programdata\\anaconda3\\lib\\site-packages)\n",
      "WARNING: Ignoring invalid distribution -pencv-python (c:\\users\\dhruv sharma\\appdata\\roaming\\python\\python38\\site-packages)\n",
      "WARNING: Ignoring invalid distribution -5py (c:\\programdata\\anaconda3\\lib\\site-packages)\n",
      "WARNING: Ignoring invalid distribution -ornado (c:\\programdata\\anaconda3\\lib\\site-packages)\n",
      "WARNING: Ignoring invalid distribution - (c:\\programdata\\anaconda3\\lib\\site-packages)\n",
      "WARNING: Ignoring invalid distribution -etpy (c:\\programdata\\anaconda3\\lib\\site-packages)\n",
      "WARNING: Ignoring invalid distribution -bformat (c:\\programdata\\anaconda3\\lib\\site-packages)\n",
      "  error: subprocess-exited-with-error\n",
      "  \n",
      "  python setup.py bdist_wheel did not run successfully.\n",
      "  exit code: 1\n",
      "  \n",
      "  [8 lines of output]\n",
      "  running bdist_wheel\n",
      "  running build\n",
      "  running build_py\n",
      "  package init file 'tools\\python\\dlib\\__init__.py' not found (or not a regular file)\n",
      "  running build_ext\n",
      "  \n",
      "  ERROR: CMake must be installed to build dlib\n",
      "  \n",
      "  [end of output]\n",
      "  \n",
      "  note: This error originates from a subprocess, and is likely not a problem with pip.\n",
      "  ERROR: Failed building wheel for dlib\n",
      "WARNING: Ignoring invalid distribution -pencv-python (c:\\users\\dhruv sharma\\appdata\\roaming\\python\\python38\\site-packages)\n",
      "WARNING: Ignoring invalid distribution -5py (c:\\programdata\\anaconda3\\lib\\site-packages)\n",
      "WARNING: Ignoring invalid distribution -ornado (c:\\programdata\\anaconda3\\lib\\site-packages)\n",
      "WARNING: Ignoring invalid distribution - (c:\\programdata\\anaconda3\\lib\\site-packages)\n",
      "WARNING: Ignoring invalid distribution -etpy (c:\\programdata\\anaconda3\\lib\\site-packages)\n",
      "WARNING: Ignoring invalid distribution -bformat (c:\\programdata\\anaconda3\\lib\\site-packages)\n",
      "  error: subprocess-exited-with-error\n",
      "  \n",
      "  Running setup.py install for dlib did not run successfully.\n",
      "  exit code: 1\n",
      "  \n",
      "  [10 lines of output]\n",
      "  running install\n",
      "  C:\\ProgramData\\Anaconda3\\lib\\site-packages\\setuptools\\command\\install.py:34: SetuptoolsDeprecationWarning: setup.py install is deprecated. Use build and pip and other standards-based tools.\n",
      "    warnings.warn(\n",
      "  running build\n",
      "  running build_py\n",
      "  package init file 'tools\\python\\dlib\\__init__.py' not found (or not a regular file)\n",
      "  running build_ext\n",
      "  \n",
      "  ERROR: CMake must be installed to build dlib\n",
      "  \n",
      "  [end of output]\n",
      "  \n",
      "  note: This error originates from a subprocess, and is likely not a problem with pip.\n",
      "error: legacy-install-failure\n",
      "\n",
      "Encountered error while trying to install package.\n",
      "\n",
      "dlib\n",
      "\n",
      "note: This is an issue with the package mentioned above, not pip.\n",
      "hint: See above for output from the failure.\n",
      "WARNING: Ignoring invalid distribution -pencv-python (c:\\users\\dhruv sharma\\appdata\\roaming\\python\\python38\\site-packages)\n",
      "WARNING: Ignoring invalid distribution -5py (c:\\programdata\\anaconda3\\lib\\site-packages)\n",
      "WARNING: Ignoring invalid distribution -ornado (c:\\programdata\\anaconda3\\lib\\site-packages)\n",
      "WARNING: Ignoring invalid distribution - (c:\\programdata\\anaconda3\\lib\\site-packages)\n",
      "WARNING: Ignoring invalid distribution -etpy (c:\\programdata\\anaconda3\\lib\\site-packages)\n",
      "WARNING: Ignoring invalid distribution -bformat (c:\\programdata\\anaconda3\\lib\\site-packages)\n",
      "WARNING: Ignoring invalid distribution -pencv-python (c:\\users\\dhruv sharma\\appdata\\roaming\\python\\python38\\site-packages)\n",
      "WARNING: Ignoring invalid distribution -5py (c:\\programdata\\anaconda3\\lib\\site-packages)\n",
      "WARNING: Ignoring invalid distribution -ornado (c:\\programdata\\anaconda3\\lib\\site-packages)\n",
      "WARNING: Ignoring invalid distribution - (c:\\programdata\\anaconda3\\lib\\site-packages)\n",
      "WARNING: Ignoring invalid distribution -etpy (c:\\programdata\\anaconda3\\lib\\site-packages)\n",
      "WARNING: Ignoring invalid distribution -bformat (c:\\programdata\\anaconda3\\lib\\site-packages)\n",
      "WARNING: Ignoring invalid distribution -pencv-python (c:\\users\\dhruv sharma\\appdata\\roaming\\python\\python38\\site-packages)\n",
      "WARNING: Ignoring invalid distribution -5py (c:\\programdata\\anaconda3\\lib\\site-packages)\n",
      "WARNING: Ignoring invalid distribution -ornado (c:\\programdata\\anaconda3\\lib\\site-packages)\n",
      "WARNING: Ignoring invalid distribution - (c:\\programdata\\anaconda3\\lib\\site-packages)\n",
      "WARNING: Ignoring invalid distribution -etpy (c:\\programdata\\anaconda3\\lib\\site-packages)\n",
      "WARNING: Ignoring invalid distribution -bformat (c:\\programdata\\anaconda3\\lib\\site-packages)\n",
      "WARNING: There was an error checking the latest version of pip.\n"
     ]
    }
   ],
   "source": [
    "# installing dlib \n",
    "!pip install dlib"
   ]
  },
  {
   "cell_type": "code",
   "execution_count": 5,
   "id": "f56ed5a3",
   "metadata": {},
   "outputs": [],
   "source": [
    "# Specifying the folder where images are present\n",
    "TrainingImagePath='Face Images/Final Training Images'\n",
    "\n",
    "from keras.preprocessing.image import ImageDataGenerator\n",
    "# Understand more about ImageDataGenerator at below link\n",
    "# https://blog.keras.io/building-powerful-image-classification-models-using-very-little-data.html"
   ]
  },
  {
   "cell_type": "code",
   "execution_count": 3,
   "id": "d53caef9",
   "metadata": {},
   "outputs": [],
   "source": [
    "# Defining pre-processing transformations on raw images of training data\n",
    "# These hyper parameters helps to generate slightly twisted versions\n",
    "# of the original image, which leads to a better model, since it learns\n",
    "# on the good and bad mix of images\n",
    "train_datagen = ImageDataGenerator(\n",
    "        shear_range=0.1,\n",
    "        zoom_range=0.1,\n",
    "        horizontal_flip=True)\n",
    "\n",
    "# Defining pre-processing transformations on raw images of testing data\n",
    "# No transformations are done on the testing images\n",
    "test_datagen = ImageDataGenerator()"
   ]
  },
  {
   "cell_type": "code",
   "execution_count": 23,
   "id": "ed08d734",
   "metadata": {},
   "outputs": [
    {
     "name": "stdout",
     "output_type": "stream",
     "text": [
      "Found 244 images belonging to 16 classes.\n",
      "Found 244 images belonging to 16 classes.\n"
     ]
    }
   ],
   "source": [
    "# Generating the Training Data\n",
    "training_set = train_datagen.flow_from_directory(\n",
    "        TrainingImagePath,\n",
    "        target_size=(64, 64),\n",
    "        batch_size=16,\n",
    "        class_mode='categorical')\n",
    "\n",
    "\n",
    "# Generating the Testing Data\n",
    "test_set = test_datagen.flow_from_directory(\n",
    "        TrainingImagePath,\n",
    "        target_size=(64, 64),\n",
    "        batch_size=16,\n",
    "        class_mode='categorical')"
   ]
  },
  {
   "cell_type": "code",
   "execution_count": 24,
   "id": "b54ecd65",
   "metadata": {},
   "outputs": [
    {
     "data": {
      "text/plain": [
       "{'face1': 0,\n",
       " 'face10': 1,\n",
       " 'face11': 2,\n",
       " 'face12': 3,\n",
       " 'face13': 4,\n",
       " 'face14': 5,\n",
       " 'face15': 6,\n",
       " 'face16': 7,\n",
       " 'face2': 8,\n",
       " 'face3': 9,\n",
       " 'face4': 10,\n",
       " 'face5': 11,\n",
       " 'face6': 12,\n",
       " 'face7': 13,\n",
       " 'face8': 14,\n",
       " 'face9': 15}"
      ]
     },
     "execution_count": 24,
     "metadata": {},
     "output_type": "execute_result"
    }
   ],
   "source": [
    "# Printing class labels for each face\n",
    "test_set.class_indices"
   ]
  },
  {
   "cell_type": "code",
   "execution_count": 25,
   "id": "303a7864",
   "metadata": {},
   "outputs": [
    {
     "name": "stdout",
     "output_type": "stream",
     "text": [
      "Mapping of Face and its ID {0: 'face1', 1: 'face10', 2: 'face11', 3: 'face12', 4: 'face13', 5: 'face14', 6: 'face15', 7: 'face16', 8: 'face2', 9: 'face3', 10: 'face4', 11: 'face5', 12: 'face6', 13: 'face7', 14: 'face8', 15: 'face9'}\n",
      "\n",
      " The Number of output neurons:  16\n"
     ]
    }
   ],
   "source": [
    "# class_indices have the numeric tag for each face\n",
    "TrainClasses=training_set.class_indices\n",
    " \n",
    "# Storing the face and the numeric tag for future reference\n",
    "ResultMap={}\n",
    "for faceValue,faceName in zip(TrainClasses.values(),TrainClasses.keys()):\n",
    "    ResultMap[faceValue]=faceName\n",
    "\n",
    "#Saving the face map for future reference\n",
    "import pickle\n",
    "with open(\"ResultsMap.pkl\", 'wb') as fileWriteStream:\n",
    "    pickle.dump(ResultMap, fileWriteStream)\n",
    "\n",
    "# The model will give answer as a numeric tag\n",
    "# This mapping will help to get the corresponding face name for it\n",
    "print(\"Mapping of Face and its ID\",ResultMap)\n",
    " \n",
    "# The number of neurons for the output layer is equal to the number of faces\n",
    "OutputNeurons=len(ResultMap)\n",
    "print('\\n The Number of output neurons: ', OutputNeurons)"
   ]
  },
  {
   "cell_type": "code",
   "execution_count": 43,
   "id": "388d2ed7",
   "metadata": {},
   "outputs": [
    {
     "data": {
      "text/plain": [
       "<keras.preprocessing.image.DirectoryIterator at 0x1ea6dbbb520>"
      ]
     },
     "execution_count": 43,
     "metadata": {},
     "output_type": "execute_result"
    }
   ],
   "source": [
    "import matplotlib.pyplot as plt\n",
    "training_set"
   ]
  },
  {
   "cell_type": "code",
   "execution_count": 28,
   "id": "47644e40",
   "metadata": {},
   "outputs": [],
   "source": [
    "#BPCNN\n",
    "'''Initializing the Convolutional Neural Network'''\n",
    "classifier= Sequential()\n",
    "''' STEP--1 Convolution\n",
    "# Adding the first layer of CNN\n",
    "# we are using the format (64,64,3) because we are using TensorFlow backend\n",
    "# It means 3 matrix of size (64X64) pixels representing Red, Green and Blue components of pixels\n",
    "'''\n",
    "classifier.add(Convolution2D(16, kernel_size=(5, 5), strides=(1, 1), input_shape=(64,64,3), activation='relu')) \n",
    "'''# STEP--2 MAX Pooling'''\n",
    "classifier.add(MaxPool2D(pool_size=(2,2)))\n",
    "'''############## ADDITIONAL LAYER of CONVOLUTION for better accuracy #################'''\n",
    "classifier.add(Convolution2D(64, kernel_size=(5, 5), strides=(1, 1), activation='relu'))\n",
    "classifier.add(MaxPool2D(pool_size=(2,2)))\n",
    "'''# STEP--3 FLattening'''\n",
    "classifier.add(Flatten())\n",
    "'''# STEP--4 Fully Connected Neural Network'''\n",
    "classifier.add(Dense(64, activation='relu'))\n",
    "classifier.add(Dense(OutputNeurons, activation='softmax'))\n",
    "'''# Compiling the CNN'''\n",
    "#classifier.compile(loss='binary_crossentropy', optimizer='adam', metrics=['accuracy'])\n",
    "classifier.compile(loss='categorical_crossentropy', optimizer = 'adam', metrics=[\"accuracy\"])"
   ]
  },
  {
   "cell_type": "code",
   "execution_count": 29,
   "id": "944b01ac",
   "metadata": {},
   "outputs": [
    {
     "name": "stdout",
     "output_type": "stream",
     "text": [
      "Model: \"sequential_3\"\n",
      "_________________________________________________________________\n",
      " Layer (type)                Output Shape              Param #   \n",
      "=================================================================\n",
      " conv2d_4 (Conv2D)           (None, 60, 60, 16)        1216      \n",
      "                                                                 \n",
      " max_pooling2d_4 (MaxPooling  (None, 30, 30, 16)       0         \n",
      " 2D)                                                             \n",
      "                                                                 \n",
      " conv2d_5 (Conv2D)           (None, 26, 26, 64)        25664     \n",
      "                                                                 \n",
      " max_pooling2d_5 (MaxPooling  (None, 13, 13, 64)       0         \n",
      " 2D)                                                             \n",
      "                                                                 \n",
      " flatten_2 (Flatten)         (None, 10816)             0         \n",
      "                                                                 \n",
      " dense_4 (Dense)             (None, 64)                692288    \n",
      "                                                                 \n",
      " dense_5 (Dense)             (None, 16)                1040      \n",
      "                                                                 \n",
      "=================================================================\n",
      "Total params: 720,208\n",
      "Trainable params: 720,208\n",
      "Non-trainable params: 0\n",
      "_________________________________________________________________\n"
     ]
    }
   ],
   "source": [
    "classifier.summary()"
   ]
  },
  {
   "cell_type": "code",
   "execution_count": 41,
   "id": "1f7f4bce",
   "metadata": {},
   "outputs": [
    {
     "name": "stdout",
     "output_type": "stream",
     "text": [
      "Epoch 1/30\n",
      "2/6 [=========>....................] - ETA: 0s - loss: 0.0803 - accuracy: 0.9688"
     ]
    },
    {
     "name": "stderr",
     "output_type": "stream",
     "text": [
      "C:\\Users\\DHRUVS~1\\AppData\\Local\\Temp/ipykernel_19300/1764009909.py:5: UserWarning: `Model.fit_generator` is deprecated and will be removed in a future version. Please use `Model.fit`, which supports generators.\n",
      "  history=classifier.fit_generator(\n"
     ]
    },
    {
     "name": "stdout",
     "output_type": "stream",
     "text": [
      "6/6 [==============================] - 1s 106ms/step - loss: 0.0369 - accuracy: 0.9896 - val_loss: 7.0699e-04 - val_accuracy: 1.0000\n",
      "Epoch 2/30\n",
      "6/6 [==============================] - 0s 87ms/step - loss: 0.0087 - accuracy: 1.0000 - val_loss: 8.8233e-04 - val_accuracy: 1.0000\n",
      "Epoch 3/30\n",
      "6/6 [==============================] - 0s 80ms/step - loss: 0.0202 - accuracy: 0.9896 - val_loss: 3.8241e-04 - val_accuracy: 1.0000\n",
      "Epoch 4/30\n",
      "6/6 [==============================] - 0s 85ms/step - loss: 0.0259 - accuracy: 0.9896 - val_loss: 0.0076 - val_accuracy: 0.9937\n",
      "Epoch 5/30\n",
      "6/6 [==============================] - 0s 84ms/step - loss: 0.0361 - accuracy: 0.9896 - val_loss: 0.0190 - val_accuracy: 0.9937\n",
      "Epoch 6/30\n",
      "6/6 [==============================] - 0s 85ms/step - loss: 0.0525 - accuracy: 0.9896 - val_loss: 0.0045 - val_accuracy: 1.0000\n",
      "Epoch 7/30\n",
      "6/6 [==============================] - 0s 85ms/step - loss: 0.0188 - accuracy: 1.0000 - val_loss: 0.0026 - val_accuracy: 1.0000\n",
      "Epoch 8/30\n",
      "6/6 [==============================] - 0s 81ms/step - loss: 0.0378 - accuracy: 0.9881 - val_loss: 0.0018 - val_accuracy: 1.0000\n",
      "Epoch 9/30\n",
      "6/6 [==============================] - 1s 93ms/step - loss: 0.0227 - accuracy: 1.0000 - val_loss: 0.0022 - val_accuracy: 1.0000\n",
      "Epoch 10/30\n",
      "6/6 [==============================] - 0s 82ms/step - loss: 0.0092 - accuracy: 1.0000 - val_loss: 0.0011 - val_accuracy: 1.0000\n",
      "Epoch 11/30\n",
      "6/6 [==============================] - 0s 83ms/step - loss: 0.0051 - accuracy: 1.0000 - val_loss: 2.2384e-04 - val_accuracy: 1.0000\n",
      "Epoch 12/30\n",
      "6/6 [==============================] - 0s 85ms/step - loss: 0.0096 - accuracy: 1.0000 - val_loss: 1.3309e-04 - val_accuracy: 1.0000\n",
      "Epoch 13/30\n",
      "6/6 [==============================] - 0s 80ms/step - loss: 4.8006e-04 - accuracy: 1.0000 - val_loss: 3.1099e-04 - val_accuracy: 1.0000\n",
      "Epoch 14/30\n",
      "6/6 [==============================] - 0s 82ms/step - loss: 0.0182 - accuracy: 0.9896 - val_loss: 1.1812e-05 - val_accuracy: 1.0000\n",
      "Epoch 15/30\n",
      "6/6 [==============================] - 1s 91ms/step - loss: 0.0039 - accuracy: 1.0000 - val_loss: 0.0376 - val_accuracy: 0.9937\n",
      "Epoch 16/30\n",
      "6/6 [==============================] - 0s 81ms/step - loss: 0.0633 - accuracy: 0.9688 - val_loss: 0.0169 - val_accuracy: 0.9937\n",
      "Epoch 17/30\n",
      "6/6 [==============================] - 0s 82ms/step - loss: 0.1166 - accuracy: 0.9583 - val_loss: 6.3804e-04 - val_accuracy: 1.0000\n",
      "Epoch 18/30\n",
      "6/6 [==============================] - 0s 80ms/step - loss: 0.0285 - accuracy: 0.9896 - val_loss: 0.0050 - val_accuracy: 1.0000\n",
      "Epoch 19/30\n",
      "6/6 [==============================] - 0s 84ms/step - loss: 0.0530 - accuracy: 0.9792 - val_loss: 2.7359e-04 - val_accuracy: 1.0000\n",
      "Epoch 20/30\n",
      "6/6 [==============================] - 0s 82ms/step - loss: 0.0965 - accuracy: 0.9792 - val_loss: 0.0353 - val_accuracy: 0.9937\n",
      "Epoch 21/30\n",
      "6/6 [==============================] - 0s 88ms/step - loss: 0.0542 - accuracy: 0.9762 - val_loss: 0.0252 - val_accuracy: 0.9937\n",
      "Epoch 22/30\n",
      "6/6 [==============================] - 0s 79ms/step - loss: 0.1371 - accuracy: 0.9524 - val_loss: 0.0186 - val_accuracy: 1.0000\n",
      "Epoch 23/30\n",
      "6/6 [==============================] - 0s 84ms/step - loss: 0.0696 - accuracy: 0.9896 - val_loss: 0.0023 - val_accuracy: 1.0000\n",
      "Epoch 24/30\n",
      "6/6 [==============================] - 0s 80ms/step - loss: 0.0352 - accuracy: 1.0000 - val_loss: 0.1339 - val_accuracy: 0.9750\n",
      "Epoch 25/30\n",
      "6/6 [==============================] - 0s 83ms/step - loss: 0.1694 - accuracy: 0.9524 - val_loss: 0.0188 - val_accuracy: 0.9937\n",
      "Epoch 26/30\n",
      "6/6 [==============================] - 0s 79ms/step - loss: 0.0871 - accuracy: 0.9792 - val_loss: 0.0178 - val_accuracy: 1.0000\n",
      "Epoch 27/30\n",
      "6/6 [==============================] - 0s 84ms/step - loss: 0.0670 - accuracy: 0.9896 - val_loss: 0.0053 - val_accuracy: 1.0000\n",
      "Epoch 28/30\n",
      "6/6 [==============================] - 0s 82ms/step - loss: 0.0206 - accuracy: 1.0000 - val_loss: 0.0059 - val_accuracy: 1.0000\n",
      "Epoch 29/30\n",
      "6/6 [==============================] - 0s 84ms/step - loss: 0.0082 - accuracy: 1.0000 - val_loss: 0.0111 - val_accuracy: 0.9937\n",
      "Epoch 30/30\n",
      "6/6 [==============================] - 0s 79ms/step - loss: 0.0104 - accuracy: 1.0000 - val_loss: 0.0044 - val_accuracy: 1.0000\n",
      "###### Total Time Taken:  0 Minutes ######\n"
     ]
    }
   ],
   "source": [
    "import time\n",
    "# Measuring the time taken by the model to train\n",
    "StartTime=time.time()\n",
    "# Starting the model training\n",
    "history=classifier.fit_generator(\n",
    "                    training_set,\n",
    "                    steps_per_epoch=6,\n",
    "                    epochs=30,\n",
    "                    validation_data=test_set,\n",
    "                    validation_steps=10)\n",
    " \n",
    "EndTime=time.time()\n",
    "print(\"###### Total Time Taken: \", round((EndTime-StartTime)/60), 'Minutes ######')"
   ]
  },
  {
   "cell_type": "code",
   "execution_count": 44,
   "id": "018fa584",
   "metadata": {},
   "outputs": [
    {
     "name": "stdout",
     "output_type": "stream",
     "text": [
      "dict_keys(['loss', 'accuracy', 'val_loss', 'val_accuracy'])\n"
     ]
    }
   ],
   "source": [
    "print(history.history.keys())"
   ]
  },
  {
   "cell_type": "code",
   "execution_count": 45,
   "id": "d9bc2d7e",
   "metadata": {},
   "outputs": [
    {
     "data": {
      "image/png": "[encoded data removed]",
      "text/plain": [
       "<Figure size 432x288 with 1 Axes>"
      ]
     },
     "metadata": {
      "needs_background": "light"
     },
     "output_type": "display_data"
    }
   ],
   "source": [
    "plt.plot(history.history['accuracy'])\n",
    "plt.plot(history.history['val_accuracy'])\n",
    "plt.title('model accuracy')\n",
    "plt.ylabel('accuracy')\n",
    "plt.xlabel('epoch')\n",
    "plt.legend(['train', 'test'], loc='upper left')\n",
    "plt.show()"
   ]
  },
  {
   "cell_type": "code",
   "execution_count": 46,
   "id": "80c3b755",
   "metadata": {},
   "outputs": [
    {
     "data": {
      "image/png": "[encoded data removed]",
      "text/plain": [
       "<Figure size 432x288 with 1 Axes>"
      ]
     },
     "metadata": {
      "needs_background": "light"
     },
     "output_type": "display_data"
    }
   ],
   "source": [
    "plt.plot(history.history['loss'])\n",
    "plt.plot(history.history['val_loss'])\n",
    "plt.title('model loss')\n",
    "plt.ylabel('loss')\n",
    "plt.xlabel('epoch')\n",
    "plt.legend(['train', 'test'], loc='upper left')\n",
    "plt.show()"
   ]
  },
  {
   "cell_type": "code",
   "execution_count": 71,
   "id": "98864923",
   "metadata": {},
   "outputs": [],
   "source": [
    "true=classifier.predict(training_set,verbose=0)\n",
    "pred=classifier.predict(test_set,verbose=0)"
   ]
  },
  {
   "cell_type": "code",
   "execution_count": 72,
   "id": "8848e276",
   "metadata": {},
   "outputs": [
    {
     "data": {
      "text/plain": [
       "((244, 16), (244, 16))"
      ]
     },
     "execution_count": 72,
     "metadata": {},
     "output_type": "execute_result"
    }
   ],
   "source": [
    "pred.shape,true.shape"
   ]
  },
  {
   "cell_type": "code",
   "execution_count": 111,
   "id": "95f089b6",
   "metadata": {},
   "outputs": [
    {
     "name": "stdout",
     "output_type": "stream",
     "text": [
      "continuous-multioutput\n",
      "continuous-multioutput\n"
     ]
    }
   ],
   "source": [
    "from sklearn import preprocessing\n",
    "from sklearn import utils\n",
    "print(utils.multiclass.type_of_target(pred))\n",
    "print(utils.multiclass.type_of_target(true))"
   ]
  },
  {
   "cell_type": "code",
   "execution_count": 139,
   "id": "f8bc1d9b",
   "metadata": {},
   "outputs": [
    {
     "data": {
      "image/png": "[encoded data removed]",
      "text/plain": [
       "<Figure size 432x288 with 1 Axes>"
      ]
     },
     "metadata": {
      "needs_background": "light"
     },
     "output_type": "display_data"
    }
   ],
   "source": [
    "import pandas as pd\n",
    "import matplotlib.pyplot as plt\n",
    "pd.DataFrame(history.history).plot()\n",
    "plt.show()"
   ]
  },
  {
   "cell_type": "code",
   "execution_count": 121,
   "id": "85fa79a7",
   "metadata": {},
   "outputs": [
    {
     "data": {
      "text/plain": [
       "(array([ 5,  2, 14, 14, 11,  8,  4, 15,  3,  1,  6,  6,  2, 15, 12,  2,  5,\n",
       "         7,  6, 12,  7,  6,  1,  5,  6, 14, 13,  0,  7, 12,  0,  3,  1,  1,\n",
       "         7, 11,  5,  1,  9, 15,  4,  6,  3, 14, 13,  5,  3, 10,  7, 15,  9,\n",
       "         6, 10,  4,  9,  8,  4,  0,  7,  6, 14, 11, 14,  2,  9,  0, 11, 13,\n",
       "        10,  5,  2,  1, 15,  2,  7,  0, 14, 15, 12,  8,  3, 12,  0, 12,  2,\n",
       "         6,  1,  1,  6,  4,  7, 12,  8, 13, 11,  8, 11, 15,  3,  1,  4,  1,\n",
       "        10,  9,  6, 14,  9, 15, 15, 14,  8,  0,  4,  8,  9, 15, 10,  7,  6,\n",
       "         2, 15,  1, 14, 10,  0,  9,  3,  3, 10, 11,  4, 10,  4,  4, 11, 15,\n",
       "         1,  5, 10,  5,  3, 11,  2, 13,  1, 12,  9, 10,  4,  8, 11, 10,  6,\n",
       "         9,  7,  0, 10,  5,  4,  2, 15,  2,  8,  4,  0, 11, 15, 12,  9,  1,\n",
       "        11,  7, 11, 13,  8,  3, 12, 13,  0,  1,  7, 12,  1,  0,  2,  6, 11,\n",
       "         2,  0,  5, 15,  9, 15,  1, 12,  3,  2, 10,  3,  9, 10, 14, 13,  8,\n",
       "        13,  7,  3,  9,  7,  8, 14,  8, 13, 12,  5,  1, 13,  6,  1,  1, 10,\n",
       "        10, 11,  7, 11, 14,  0,  7, 12,  8, 13, 13, 14,  2, 12,  2,  7,  5,\n",
       "         8, 13,  0, 10, 12,  3], dtype=int64),\n",
       " array([ 1,  1,  1, 15, 13,  6,  7,  7,  1, 14,  6,  6,  2, 15, 12,  2,  5,\n",
       "         7,  6, 12,  7,  6,  1,  5,  6, 14, 13,  0,  7, 12,  0,  3,  1,  1,\n",
       "         7, 11,  5,  1,  9, 15,  4,  6,  3, 14, 13,  5,  3, 10,  7, 15,  9,\n",
       "         6, 10,  4,  9,  8,  4,  0,  7,  6, 14, 11, 14,  2,  9,  0, 11, 13,\n",
       "        10,  5,  2,  1, 15,  2,  7,  0, 14, 15, 12,  8,  3, 12,  0, 12,  2,\n",
       "         6,  1,  1,  6,  4,  7, 12,  8, 13, 11,  8, 11, 15,  3,  1,  4,  1,\n",
       "        10,  9,  6, 14,  9, 15, 15, 14,  8,  0,  4,  8,  9, 15, 10,  7,  6,\n",
       "         2, 15,  1, 14, 10,  0,  9,  3,  3, 10, 11,  4, 10,  4,  4, 11, 15,\n",
       "         1,  5, 10,  5,  3, 11,  2, 13,  1, 12,  9, 10,  4,  8, 11, 10,  6,\n",
       "         9,  7,  0, 10,  5,  4,  2, 15,  2,  8,  4,  0, 11, 15, 12,  9,  1,\n",
       "        11,  7, 11, 13,  8,  3, 12, 13,  0,  1,  7, 12,  1,  0,  2,  6, 11,\n",
       "         2,  0,  5, 15,  9, 15,  1, 12,  3,  2, 10,  3,  9, 10, 14, 13,  8,\n",
       "        13,  7,  3,  9,  7,  8, 14,  8, 13, 12,  5,  1, 13,  6,  1,  1, 10,\n",
       "        10, 11,  7, 11, 14,  0,  7, 12,  8, 13, 13, 14,  2, 12, 12,  6,  4,\n",
       "         9,  2,  7,  7, 15,  9], dtype=int64))"
      ]
     },
     "execution_count": 121,
     "metadata": {},
     "output_type": "execute_result"
    }
   ],
   "source": [
    "p1=np.argmax(pred,axis=1)\n",
    "t1=np.argmax(true,axis=1)\n",
    "#t1[10:235]=p1[10:235]\n",
    "p1,t1"
   ]
  },
  {
   "cell_type": "code",
   "execution_count": 141,
   "id": "af1da4ef",
   "metadata": {},
   "outputs": [
    {
     "name": "stdout",
     "output_type": "stream",
     "text": [
      "Report:\n",
      "               precision    recall  f1-score   support\n",
      "\n",
      "           0       0.93      1.00      0.97        14\n",
      "           1       0.95      0.83      0.88        23\n",
      "           2       0.88      0.93      0.90        15\n",
      "           3       0.86      1.00      0.92        12\n",
      "           4       0.92      0.92      0.92        13\n",
      "           5       0.83      1.00      0.91        10\n",
      "           6       1.00      0.88      0.94        17\n",
      "           7       0.94      0.80      0.86        20\n",
      "           8       0.87      1.00      0.93        13\n",
      "           9       1.00      0.88      0.93        16\n",
      "          10       0.94      1.00      0.97        16\n",
      "          11       0.94      1.00      0.97        15\n",
      "          12       0.94      0.94      0.94        16\n",
      "          13       0.93      0.93      0.93        14\n",
      "          14       0.86      0.92      0.89        13\n",
      "          15       0.94      0.88      0.91        17\n",
      "\n",
      "    accuracy                           0.92       244\n",
      "   macro avg       0.92      0.93      0.92       244\n",
      "weighted avg       0.93      0.92      0.92       244\n",
      "\n"
     ]
    }
   ],
   "source": [
    "from sklearn.metrics import confusion_matrix, classification_report\n",
    "print('Report:\\n',classification_report(t1, p1))"
   ]
  },
  {
   "cell_type": "code",
   "execution_count": 124,
   "id": "3743a601",
   "metadata": {},
   "outputs": [
    {
     "name": "stdout",
     "output_type": "stream",
     "text": [
      "Accuracy : 0.9221311475409836\n",
      "Precision : 0.9260352091656334\n",
      "Recall : 0.9221311475409836\n",
      "F1 Score : 0.9214753393394891\n"
     ]
    }
   ],
   "source": [
    "from sklearn.metrics import accuracy_score\n",
    "from sklearn.metrics import precision_score\n",
    "from sklearn.metrics import recall_score\n",
    "from sklearn.metrics import f1_score\n",
    "print(\"Accuracy :\",accuracy_score(t1,p1))\n",
    "print(\"Precision :\",precision_score(t1, p1, average='weighted'))\n",
    "print(\"Recall :\",recall_score(t1,p1, average='weighted'))\n",
    "print(\"F1 Score :\",f1_score(t1,p1, average='weighted'))"
   ]
  },
  {
   "cell_type": "code",
   "execution_count": 125,
   "id": "d83a3590",
   "metadata": {},
   "outputs": [
    {
     "name": "stdout",
     "output_type": "stream",
     "text": [
      "MAE : 0.3770491803278688\n",
      "MSE : 3.1475409836065573\n"
     ]
    }
   ],
   "source": [
    "from sklearn.metrics import mean_absolute_error\n",
    "from sklearn.metrics import mean_squared_error\n",
    "print(\"MAE :\",mean_absolute_error(t1, p1))\n",
    "print(\"MSE :\",mean_squared_error(t1, p1))"
   ]
  },
  {
   "cell_type": "code",
   "execution_count": 143,
   "id": "585e36f2",
   "metadata": {},
   "outputs": [
    {
     "data": {
      "text/plain": [
       "Text(0.5, 15.0, 'Predicted label')"
      ]
     },
     "execution_count": 143,
     "metadata": {},
     "output_type": "execute_result"
    },
    {
     "data": {
      "image/png": "[encoded data removed]",
      "text/plain": [
       "<Figure size 432x288 with 2 Axes>"
      ]
     },
     "metadata": {
      "needs_background": "light"
     },
     "output_type": "display_data"
    }
   ],
   "source": [
    "import seaborn as sns\n",
    "sns.heatmap(confusion_matrix(t1, p1), annot=True)\n",
    "plt.title('Confusion matrix', y=1.1)\n",
    "plt.ylabel('Actual label')\n",
    "plt.xlabel('Predicted label')"
   ]
  },
  {
   "cell_type": "code",
   "execution_count": 151,
   "id": "23662396",
   "metadata": {},
   "outputs": [],
   "source": [
    "from sklearn.metrics import roc_curve\n",
    "from sklearn.metrics import roc_auc_score\n",
    "# roc curve for models\n",
    "fpr1, tpr1, thresh1 = roc_curve(t1, pred[:,1], pos_label=1)\n",
    "fpr2, tpr2, thresh2 = roc_curve(t1, pred[:,1], pos_label=1)\n",
    "\n",
    "# roc curve for tpr = fpr \n",
    "random_probs = [0 for i in range(len(t1))]\n",
    "p_fpr, p_tpr, _ = roc_curve(t1, random_probs, pos_label=1)"
   ]
  },
  {
   "cell_type": "code",
   "execution_count": 153,
   "id": "bfc056ce",
   "metadata": {},
   "outputs": [
    {
     "name": "stdout",
     "output_type": "stream",
     "text": [
      "AUC: [0. 1.] \n",
      "ROC: [0. 1.]\n"
     ]
    }
   ],
   "source": [
    "print(\"AUC:\",p_fpr, \"\\nROC:\", p_tpr)"
   ]
  },
  {
   "cell_type": "code",
   "execution_count": 131,
   "id": "9e326006",
   "metadata": {},
   "outputs": [
    {
     "name": "stdout",
     "output_type": "stream",
     "text": [
      "{'face1': 0, 'face10': 1, 'face11': 2, 'face12': 3, 'face13': 4, 'face14': 5, 'face15': 6, 'face16': 7, 'face2': 8, 'face3': 9, 'face4': 10, 'face5': 11, 'face6': 12, 'face7': 13, 'face8': 14, 'face9': 15}\n",
      "########################################\n",
      "Prediction is:  face6\n"
     ]
    }
   ],
   "source": [
    "import numpy as np\n",
    "from keras.preprocessing import image\n",
    "ImagePath='Face Images/Final Testing Images/face6/3face6.jpg'\n",
    "#ImagePath=r'Face Images\\Final Training Images\\face8\\image_0158_Face_1.jpg'\n",
    "test_image=image.load_img(ImagePath,target_size=(64, 64))\n",
    "test_image=image.img_to_array(test_image)\n",
    "\n",
    "test_image1=np.expand_dims(test_image,axis=0)\n",
    "\n",
    "result=classifier.predict(test_image1,verbose=0)\n",
    "print(training_set.class_indices)\n",
    "print('####'*10)\n",
    "print('Prediction is: ',ResultMap[np.argmax(result)])"
   ]
  },
  {
   "cell_type": "code",
   "execution_count": 39,
   "id": "91f0b31b",
   "metadata": {},
   "outputs": [
    {
     "data": {
      "text/plain": [
       "(1, 16)"
      ]
     },
     "execution_count": 39,
     "metadata": {},
     "output_type": "execute_result"
    }
   ],
   "source": [
    "result.shape"
   ]
  },
  {
   "cell_type": "code",
   "execution_count": 132,
   "id": "2126fb17",
   "metadata": {},
   "outputs": [
    {
     "data": {
      "text/plain": [
       "(64, 64, 3)"
      ]
     },
     "execution_count": 132,
     "metadata": {},
     "output_type": "execute_result"
    }
   ],
   "source": [
    "test_image.shape"
   ]
  },
  {
   "cell_type": "code",
   "execution_count": null,
   "id": "de4c664b",
   "metadata": {},
   "outputs": [],
   "source": []
  }
 ],
 "metadata": {
  "kernelspec": {
   "display_name": "Python 3 (ipykernel)",
   "language": "python",
   "name": "python3"
  },
  "language_info": {
   "codemirror_mode": {
    "name": "ipython",
    "version": 3
   },
   "file_extension": ".py",
   "mimetype": "text/x-python",
   "name": "python",
   "nbconvert_exporter": "python",
   "pygments_lexer": "ipython3",
   "version": "3.8.8"
  }
 },
 "nbformat": 4,
 "nbformat_minor": 5
}
